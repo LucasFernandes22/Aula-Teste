{
  "nbformat": 4,
  "nbformat_minor": 0,
  "metadata": {
    "colab": {
      "provenance": [],
      "authorship_tag": "ABX9TyMUS7ja9BsEHDsw6sWfHqoN",
      "include_colab_link": true
    },
    "kernelspec": {
      "name": "python3",
      "display_name": "Python 3"
    },
    "language_info": {
      "name": "python"
    }
  },
  "cells": [
    {
      "cell_type": "markdown",
      "metadata": {
        "id": "view-in-github",
        "colab_type": "text"
      },
      "source": [
        "<a href=\"https://colab.research.google.com/github/LucasFernandes22/Aula-Teste/blob/main/recuperacai.ipynb\" target=\"_parent\"><img src=\"https://colab.research.google.com/assets/colab-badge.svg\" alt=\"Open In Colab\"/></a>"
      ]
    },
    {
      "cell_type": "code",
      "execution_count": null,
      "metadata": {
        "id": "VG6ql3XoUYrF"
      },
      "outputs": [],
      "source": [
        "lista_numeros = []\n",
        "\n",
        "for index in range (10):\n",
        "  numero = int (input (\"digite um numero: \"))\n",
        "  lista_numeros.append(numero* 2)\n",
        "\n",
        "  lista_numeros\n"
      ]
    }
  ]
}